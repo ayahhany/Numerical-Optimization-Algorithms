{
 "cells": [
  {
   "cell_type": "code",
   "execution_count": 187,
   "id": "7af46aab",
   "metadata": {},
   "outputs": [],
   "source": [
    "import numpy as np\n",
    "import matplotlib.pyplot as plt\n",
    "%matplotlib inline\n",
    "from sklearn import utils"
   ]
  },
  {
   "cell_type": "markdown",
   "id": "87089dfc",
   "metadata": {},
   "source": [
    "### Adagrad "
   ]
  },
  {
   "cell_type": "code",
   "execution_count": 188,
   "id": "4ddaf51a",
   "metadata": {},
   "outputs": [],
   "source": [
    "# using linspace(start, stop, num) to generate the values in X equally distributed between 0 and 20\n",
    "# num is 50 (default)\n",
    "X = np.linspace(0, 20)\n",
    "y = -1*X + 2"
   ]
  },
  {
   "cell_type": "code",
   "execution_count": 189,
   "id": "368a10d8",
   "metadata": {},
   "outputs": [
    {
     "data": {
      "text/plain": [
       "array([ 0.        ,  0.40816327,  0.81632653,  1.2244898 ,  1.63265306,\n",
       "        2.04081633,  2.44897959,  2.85714286,  3.26530612,  3.67346939,\n",
       "        4.08163265,  4.48979592,  4.89795918,  5.30612245,  5.71428571,\n",
       "        6.12244898,  6.53061224,  6.93877551,  7.34693878,  7.75510204,\n",
       "        8.16326531,  8.57142857,  8.97959184,  9.3877551 ,  9.79591837,\n",
       "       10.20408163, 10.6122449 , 11.02040816, 11.42857143, 11.83673469,\n",
       "       12.24489796, 12.65306122, 13.06122449, 13.46938776, 13.87755102,\n",
       "       14.28571429, 14.69387755, 15.10204082, 15.51020408, 15.91836735,\n",
       "       16.32653061, 16.73469388, 17.14285714, 17.55102041, 17.95918367,\n",
       "       18.36734694, 18.7755102 , 19.18367347, 19.59183673, 20.        ])"
      ]
     },
     "execution_count": 189,
     "metadata": {},
     "output_type": "execute_result"
    }
   ],
   "source": [
    "X"
   ]
  },
  {
   "cell_type": "code",
   "execution_count": 190,
   "id": "2c2649ae",
   "metadata": {},
   "outputs": [
    {
     "data": {
      "text/plain": [
       "array([  2.        ,   1.59183673,   1.18367347,   0.7755102 ,\n",
       "         0.36734694,  -0.04081633,  -0.44897959,  -0.85714286,\n",
       "        -1.26530612,  -1.67346939,  -2.08163265,  -2.48979592,\n",
       "        -2.89795918,  -3.30612245,  -3.71428571,  -4.12244898,\n",
       "        -4.53061224,  -4.93877551,  -5.34693878,  -5.75510204,\n",
       "        -6.16326531,  -6.57142857,  -6.97959184,  -7.3877551 ,\n",
       "        -7.79591837,  -8.20408163,  -8.6122449 ,  -9.02040816,\n",
       "        -9.42857143,  -9.83673469, -10.24489796, -10.65306122,\n",
       "       -11.06122449, -11.46938776, -11.87755102, -12.28571429,\n",
       "       -12.69387755, -13.10204082, -13.51020408, -13.91836735,\n",
       "       -14.32653061, -14.73469388, -15.14285714, -15.55102041,\n",
       "       -15.95918367, -16.36734694, -16.7755102 , -17.18367347,\n",
       "       -17.59183673, -18.        ])"
      ]
     },
     "execution_count": 190,
     "metadata": {},
     "output_type": "execute_result"
    }
   ],
   "source": [
    "y"
   ]
  },
  {
   "cell_type": "code",
   "execution_count": 191,
   "id": "0b2424fb",
   "metadata": {},
   "outputs": [],
   "source": [
    "def AdaGrad(x,y,alpha):\n",
    "    #1. Initialize parameters (theta_0 & theta_1) with zero.\n",
    "    theta_0 = 0\n",
    "    theta_1 = 0\n",
    "    \n",
    "    thetas_0 = []\n",
    "    thetas_1 = []\n",
    "    js = []\n",
    "    \n",
    "    vt_0 = 0\n",
    "    vt_1 = 0\n",
    "    epsilon = 10**-8\n",
    "    #x,y = utils.shuffle(x,y)\n",
    "    \n",
    "    #8. Repeat from 2 to 6 until converge to the minimum or achieve maximum iterations.\n",
    "    for i in range(1000):\n",
    "        \n",
    "        #2. Use (theta_0 & theta_1) to predict the output h(x)= theta_0 + theta_1 * x\n",
    "        hx = theta_0 + (theta_1 * x)\n",
    "\n",
    "        #3. Calculate Cost function 𝑱(theta_0,theta_1 )\n",
    "        j = (np.sum(hx - y)**2)/(2*len(x))\n",
    "\n",
    "        thetas_0.append(theta_0)\n",
    "        thetas_1.append(theta_1)\n",
    "        js.append(j)\n",
    "\n",
    "        #4. Calculate the gradient\n",
    "        g_theta_0 = np.sum(hx-y)/len(x)\n",
    "        g_theta_1 = np.sum((hx-y) * x)/len(x)\n",
    "        \n",
    "        #5. calculate the accumulated gradient square\n",
    "        vt_0 = vt_0 + g_theta_0**2\n",
    "        vt_1 = vt_1 + g_theta_1**2\n",
    "        \n",
    "        #6. Update the parameters (simultaneously)\n",
    "        theta_0 = theta_0 - (alpha/(np.sqrt(vt_0) + epsilon) * g_theta_0)\n",
    "        theta_1 = theta_1 - (alpha/(np.sqrt(vt_1) + epsilon) * g_theta_1)\n",
    "        \n",
    "        #7. Stop condition\n",
    "        #thetas_vactor_prev = np.array([thetas_0[-1], thetas_1[-1]])\n",
    "        #thetas_vector_curr = np.array([theta_0, theta_1])\n",
    "        if i>1 and abs(js[i-2] - js[i-1]) < 0.0001: #and (np.linalg.norm(thetas_vactor_prev) - np.linalg.norm(thetas_vector_curr)) < 0.0001:\n",
    "            break;\n",
    "        \n",
    "    return i, thetas_0, thetas_1, js"
   ]
  },
  {
   "cell_type": "code",
   "execution_count": 259,
   "id": "1164685a",
   "metadata": {},
   "outputs": [],
   "source": [
    "i, thetas_0, thetas_1, js = AdaGrad(X,y,0.9)"
   ]
  },
  {
   "cell_type": "code",
   "execution_count": 260,
   "id": "00976304",
   "metadata": {},
   "outputs": [
    {
     "name": "stdout",
     "output_type": "stream",
     "text": [
      "the function has been iterating 174 times\n",
      "and the min cost is 0.001790323293810271\n"
     ]
    }
   ],
   "source": [
    "print(f'''the function has been iterating {i} times\\nand the min cost is {js[-1]}''')"
   ]
  },
  {
   "cell_type": "code",
   "execution_count": 261,
   "id": "4e0f1f22",
   "metadata": {},
   "outputs": [],
   "source": [
    "yhat = thetas_0[-1] + thetas_1[-1] * X"
   ]
  },
  {
   "cell_type": "code",
   "execution_count": 262,
   "id": "7f98e155",
   "metadata": {},
   "outputs": [
    {
     "data": {
      "text/plain": [
       "Text(0.5, 1.0, 'best peridected fitting line for 174 iterations')"
      ]
     },
     "execution_count": 262,
     "metadata": {},
     "output_type": "execute_result"
    },
    {
     "data": {
      "image/png": "[encoded data removed]",
      "text/plain": [
       "<Figure size 432x288 with 1 Axes>"
      ]
     },
     "metadata": {
      "needs_background": "light"
     },
     "output_type": "display_data"
    }
   ],
   "source": [
    "plt.scatter(X,y)\n",
    "plt.plot(X, yhat, color ='red')\n",
    "plt.xlabel(\"X\")\n",
    "plt.ylabel(\"y\")\n",
    "plt.title(f\"best peridected fitting line for {i} iterations\")"
   ]
  },
  {
   "cell_type": "code",
   "execution_count": 263,
   "id": "7b1bf32d",
   "metadata": {},
   "outputs": [
    {
     "data": {
      "text/plain": [
       "Text(0.5, 1.0, 'Epochs vs Cost function')"
      ]
     },
     "execution_count": 263,
     "metadata": {},
     "output_type": "execute_result"
    },
    {
     "data": {
      "image/png": "[encoded data removed]",
      "text/plain": [
       "<Figure size 432x288 with 1 Axes>"
      ]
     },
     "metadata": {
      "needs_background": "light"
     },
     "output_type": "display_data"
    }
   ],
   "source": [
    "plt.plot(np.arange(i+1), js,'-o')\n",
    "plt.xlabel(\"Epochs\")\n",
    "plt.ylabel(\"J\")\n",
    "plt.title(\"Epochs vs Cost function\")"
   ]
  },
  {
   "cell_type": "code",
   "execution_count": 264,
   "id": "9ab20554",
   "metadata": {},
   "outputs": [
    {
     "data": {
      "text/plain": [
       "Text(0.5, 1.0, 'theta 0 vs cost function')"
      ]
     },
     "execution_count": 264,
     "metadata": {},
     "output_type": "execute_result"
    },
    {
     "data": {
      "image/png": "[encoded data removed]",
      "text/plain": [
       "<Figure size 432x288 with 1 Axes>"
      ]
     },
     "metadata": {
      "needs_background": "light"
     },
     "output_type": "display_data"
    }
   ],
   "source": [
    "# theta 0\n",
    "plt.plot(thetas_0,js,'-o')\n",
    "plt.xlabel(\"theta 0\")\n",
    "plt.ylabel(\"J\")\n",
    "plt.title(\"theta 0 vs cost function\")"
   ]
  },
  {
   "cell_type": "code",
   "execution_count": 265,
   "id": "1a3c49b1",
   "metadata": {},
   "outputs": [
    {
     "data": {
      "text/plain": [
       "Text(0.5, 1.0, 'theta 1 vs cost function')"
      ]
     },
     "execution_count": 265,
     "metadata": {},
     "output_type": "execute_result"
    },
    {
     "data": {
      "image/png": "[encoded data removed]",
      "text/plain": [
       "<Figure size 432x288 with 1 Axes>"
      ]
     },
     "metadata": {
      "needs_background": "light"
     },
     "output_type": "display_data"
    }
   ],
   "source": [
    "# theta 1\n",
    "plt.plot(thetas_1,js,'-o')\n",
    "plt.xlabel(\"theta 1\")\n",
    "plt.ylabel(\"J\")\n",
    "plt.title(\"theta 1 vs cost function\")"
   ]
  },
  {
   "cell_type": "code",
   "execution_count": 266,
   "id": "eb9b3565",
   "metadata": {},
   "outputs": [
    {
     "name": "stdout",
     "output_type": "stream",
     "text": [
      "The accuracy is 99%\n"
     ]
    }
   ],
   "source": [
    "from sklearn.metrics import r2_score\n",
    "print(f\"The accuracy is {int(r2_score(y, yhat)*100)}%\")\n"
   ]
  },
  {
   "cell_type": "code",
   "execution_count": null,
   "id": "545a4780",
   "metadata": {},
   "outputs": [],
   "source": []
  },
  {
   "cell_type": "code",
   "execution_count": null,
   "id": "0f88e55a",
   "metadata": {},
   "outputs": [],
   "source": []
  }
 ],
 "metadata": {
  "kernelspec": {
   "display_name": "Python 3 (ipykernel)",
   "language": "python",
   "name": "python3"
  },
  "language_info": {
   "codemirror_mode": {
    "name": "ipython",
    "version": 3
   },
   "file_extension": ".py",
   "mimetype": "text/x-python",
   "name": "python",
   "nbconvert_exporter": "python",
   "pygments_lexer": "ipython3",
   "version": "3.9.7"
  }
 },
 "nbformat": 4,
 "nbformat_minor": 5
}
