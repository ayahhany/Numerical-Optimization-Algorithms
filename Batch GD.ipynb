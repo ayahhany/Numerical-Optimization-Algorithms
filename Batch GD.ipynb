{
 "cells": [
  {
   "cell_type": "code",
   "execution_count": 1,
   "id": "e2cd9bc9",
   "metadata": {},
   "outputs": [],
   "source": [
    "import numpy as np\n",
    "import matplotlib.pyplot as plt\n",
    "%matplotlib inline"
   ]
  },
  {
   "cell_type": "markdown",
   "id": "2f7f30ce",
   "metadata": {},
   "source": [
    "### Read RegData csv file into numpy array"
   ]
  },
  {
   "cell_type": "code",
   "execution_count": 136,
   "id": "289b71b5",
   "metadata": {},
   "outputs": [],
   "source": [
    "regData = np.loadtxt(\"./resources/RegData.csv\", delimiter = \",\")"
   ]
  },
  {
   "cell_type": "markdown",
   "id": "af0a87ad",
   "metadata": {},
   "source": [
    "### Explore the data"
   ]
  },
  {
   "cell_type": "code",
   "execution_count": 137,
   "id": "de99925b",
   "metadata": {},
   "outputs": [
    {
     "data": {
      "text/plain": [
       "array([[2.9000001 , 4.        ],\n",
       "       [6.69999981, 7.4000001 ],\n",
       "       [4.9000001 , 5.        ],\n",
       "       [7.9000001 , 7.19999981],\n",
       "       [9.80000019, 7.9000001 ],\n",
       "       [6.9000001 , 6.0999999 ],\n",
       "       [6.0999999 , 6.        ],\n",
       "       [6.19999981, 5.80000019],\n",
       "       [6.        , 5.19999981],\n",
       "       [5.0999999 , 4.19999981],\n",
       "       [4.69999981, 4.        ],\n",
       "       [4.4000001 , 4.4000001 ],\n",
       "       [5.80000019, 5.19999981]])"
      ]
     },
     "execution_count": 137,
     "metadata": {},
     "output_type": "execute_result"
    }
   ],
   "source": [
    "regData"
   ]
  },
  {
   "cell_type": "markdown",
   "id": "b462d391",
   "metadata": {},
   "source": [
    "### Define variables X and y. Assign first column data to X and second column to y\n",
    "##### Note: X is the independent variable (input to LR model) and y is the dependent variable (output)"
   ]
  },
  {
   "cell_type": "code",
   "execution_count": 138,
   "id": "d33cc23e",
   "metadata": {},
   "outputs": [],
   "source": [
    "X = regData[:,0]\n",
    "y = regData[:,1]"
   ]
  },
  {
   "cell_type": "markdown",
   "id": "bc28618c",
   "metadata": {},
   "source": [
    "### Explore your data "
   ]
  },
  {
   "cell_type": "code",
   "execution_count": 139,
   "id": "98ca8505",
   "metadata": {},
   "outputs": [
    {
     "data": {
      "text/plain": [
       "array([2.9000001 , 6.69999981, 4.9000001 , 7.9000001 , 9.80000019,\n",
       "       6.9000001 , 6.0999999 , 6.19999981, 6.        , 5.0999999 ,\n",
       "       4.69999981, 4.4000001 , 5.80000019])"
      ]
     },
     "execution_count": 139,
     "metadata": {},
     "output_type": "execute_result"
    }
   ],
   "source": [
    "X"
   ]
  },
  {
   "cell_type": "code",
   "execution_count": 140,
   "id": "7d97b49c",
   "metadata": {},
   "outputs": [
    {
     "data": {
      "text/plain": [
       "array([4.        , 7.4000001 , 5.        , 7.19999981, 7.9000001 ,\n",
       "       6.0999999 , 6.        , 5.80000019, 5.19999981, 4.19999981,\n",
       "       4.        , 4.4000001 , 5.19999981])"
      ]
     },
     "execution_count": 140,
     "metadata": {},
     "output_type": "execute_result"
    }
   ],
   "source": [
    "y"
   ]
  },
  {
   "cell_type": "markdown",
   "id": "0db0720a",
   "metadata": {},
   "source": [
    "### Plot the original data (scatter plot of X,y)"
   ]
  },
  {
   "cell_type": "code",
   "execution_count": 141,
   "id": "b1fba537",
   "metadata": {},
   "outputs": [
    {
     "data": {
      "text/plain": [
       "Text(0, 0.5, 'y')"
      ]
     },
     "execution_count": 141,
     "metadata": {},
     "output_type": "execute_result"
    },
    {
     "data": {
      "image/png": "[encoded data removed]",
      "text/plain": [
       "<Figure size 432x288 with 1 Axes>"
      ]
     },
     "metadata": {
      "needs_background": "light"
     },
     "output_type": "display_data"
    }
   ],
   "source": [
    "plt.scatter(X,y)\n",
    "plt.xlabel(\"X\")\n",
    "plt.ylabel(\"y\")"
   ]
  },
  {
   "cell_type": "markdown",
   "id": "2ba47a63",
   "metadata": {},
   "source": [
    "# LR Full Implementation"
   ]
  },
  {
   "cell_type": "code",
   "execution_count": 145,
   "id": "ffc445af",
   "metadata": {},
   "outputs": [],
   "source": [
    "def batch_GD(x,y,alpha):\n",
    "    #1. Initialize parameters (theta_0 & theta_1) with zero.\n",
    "    theta_0 = 0\n",
    "    theta_1 = 0\n",
    "    \n",
    "    thetas_0 = []\n",
    "    thetas_1 = []\n",
    "    js = []\n",
    "    \n",
    "    #7. Repeat from 2 to 6 until converge to the minimum or achieve maximum iterations.\n",
    "    for i in range(1000):\n",
    "        #2. Use (theta_0 & theta_1) to predict the output h(x)= theta_0 + theta_1 * x\n",
    "        hx = theta_0 + (theta_1 * x)\n",
    "\n",
    "        #3. Calculate Cost function 𝑱(theta_0,theta_1 )\n",
    "        j = (np.sum(hx - y)**2)/(2*len(x))\n",
    "\n",
    "        thetas_0.append(theta_0)\n",
    "        thetas_1.append(theta_1)\n",
    "        js.append(j)\n",
    "\n",
    "        #4. Calculate the gradient\n",
    "        g_theta_0 = np.sum(hx-y)/len(x)\n",
    "        g_theta_1 = np.sum((hx-y) * x)/len(x)\n",
    "\n",
    "        #5. Update the parameters (simultaneously)\n",
    "        theta_0 = theta_0 - (alpha * g_theta_0)\n",
    "        theta_1 = theta_1 - (alpha * g_theta_1)\n",
    "\n",
    "        #7. Stop condition\n",
    "        thetas_vactor_prev = np.array([thetas_0[-1], thetas_1[-1]])\n",
    "        thetas_vector_curr = np.array([theta_0, theta_1])\n",
    "        if i>1 and (js[i-1] - js[i]) < 0.0001 and (np.linalg.norm(thetas_vactor_prev) - np.linalg.norm(thetas_vector_curr)) < 0.0001:\n",
    "            break;\n",
    "        \n",
    "    return i, thetas_0, thetas_1, js"
   ]
  },
  {
   "cell_type": "code",
   "execution_count": 152,
   "id": "ef9cee26",
   "metadata": {},
   "outputs": [],
   "source": [
    "i, thetas_0, thetas_1, js = batch_GD(X,y,0.001)"
   ]
  },
  {
   "cell_type": "code",
   "execution_count": 153,
   "id": "dac0e400",
   "metadata": {},
   "outputs": [
    {
     "name": "stdout",
     "output_type": "stream",
     "text": [
      "the function has been iterating 200 times\n",
      "and the min cost is 0.053236943552192134\n"
     ]
    }
   ],
   "source": [
    "print(f'''the function has been iterating {i} times\\nand the min cost is {js[-1]}''')"
   ]
  },
  {
   "cell_type": "markdown",
   "id": "bac2bf48",
   "metadata": {},
   "source": [
    "### Plot LR equation output (fitted line) with the original data (scatter plot of X,y)"
   ]
  },
  {
   "cell_type": "code",
   "execution_count": 154,
   "id": "31fffbb0",
   "metadata": {},
   "outputs": [],
   "source": [
    "yhat = thetas_0[-1] + thetas_1[-1] * X"
   ]
  },
  {
   "cell_type": "code",
   "execution_count": 155,
   "id": "f247edd8",
   "metadata": {},
   "outputs": [
    {
     "data": {
      "text/plain": [
       "Text(0.5, 1.0, 'best peridected fitting line for 200 iterations')"
      ]
     },
     "execution_count": 155,
     "metadata": {},
     "output_type": "execute_result"
    },
    {
     "data": {
      "image/png": "[encoded data removed]",
      "text/plain": [
       "<Figure size 432x288 with 1 Axes>"
      ]
     },
     "metadata": {
      "needs_background": "light"
     },
     "output_type": "display_data"
    }
   ],
   "source": [
    "plt.scatter(X,y)\n",
    "plt.plot(X, yhat, color ='red')\n",
    "plt.xlabel(\"X\")\n",
    "plt.ylabel(\"y\")\n",
    "plt.title(f\"best peridected fitting line for {i} iterations\")"
   ]
  },
  {
   "cell_type": "markdown",
   "id": "efab8d5e",
   "metadata": {},
   "source": [
    "### Plot the cost function "
   ]
  },
  {
   "cell_type": "code",
   "execution_count": 156,
   "id": "640555bd",
   "metadata": {},
   "outputs": [
    {
     "data": {
      "text/plain": [
       "Text(0.5, 1.0, 'Epochs vs Cost function')"
      ]
     },
     "execution_count": 156,
     "metadata": {},
     "output_type": "execute_result"
    },
    {
     "data": {
      "image/png": "[encoded data removed]",
      "text/plain": [
       "<Figure size 432x288 with 1 Axes>"
      ]
     },
     "metadata": {
      "needs_background": "light"
     },
     "output_type": "display_data"
    }
   ],
   "source": [
    "plt.plot(np.arange(i+1), js,'-o')\n",
    "plt.xlabel(\"Epochs\")\n",
    "plt.ylabel(\"J\")\n",
    "plt.title(\"Epochs vs Cost function\")"
   ]
  },
  {
   "cell_type": "markdown",
   "id": "196a5616",
   "metadata": {},
   "source": [
    "### Plot thetas with cost function"
   ]
  },
  {
   "cell_type": "code",
   "execution_count": 159,
   "id": "e601b7e1",
   "metadata": {},
   "outputs": [
    {
     "data": {
      "text/plain": [
       "Text(0.5, 1.0, 'theta 0 vs cost function')"
      ]
     },
     "execution_count": 159,
     "metadata": {},
     "output_type": "execute_result"
    },
    {
     "data": {
      "image/png": "[encoded data removed]",
      "text/plain": [
       "<Figure size 432x288 with 1 Axes>"
      ]
     },
     "metadata": {
      "needs_background": "light"
     },
     "output_type": "display_data"
    }
   ],
   "source": [
    "# theta 0\n",
    "plt.plot(thetas_0,js,'-o')\n",
    "plt.xlabel(\"theta 0\")\n",
    "plt.ylabel(\"J\")\n",
    "plt.title(\"theta 0 vs cost function\")"
   ]
  },
  {
   "cell_type": "code",
   "execution_count": 160,
   "id": "58bbad90",
   "metadata": {},
   "outputs": [
    {
     "data": {
      "text/plain": [
       "Text(0.5, 1.0, 'theta 1 vs cost function')"
      ]
     },
     "execution_count": 160,
     "metadata": {},
     "output_type": "execute_result"
    },
    {
     "data": {
      "image/png": "[encoded data removed]",
      "text/plain": [
       "<Figure size 432x288 with 1 Axes>"
      ]
     },
     "metadata": {
      "needs_background": "light"
     },
     "output_type": "display_data"
    }
   ],
   "source": [
    "# theta 1\n",
    "plt.plot(thetas_1,js,'-o')\n",
    "plt.xlabel(\"theta 1\")\n",
    "plt.ylabel(\"J\")\n",
    "plt.title(\"theta 1 vs cost function\")"
   ]
  },
  {
   "cell_type": "markdown",
   "id": "a19cc485",
   "metadata": {},
   "source": [
    "### Use R2 score to evaluate LR equation output"
   ]
  },
  {
   "cell_type": "code",
   "execution_count": 161,
   "id": "85b2ea28",
   "metadata": {},
   "outputs": [
    {
     "name": "stdout",
     "output_type": "stream",
     "text": [
      "The accuracy is 74%\n"
     ]
    }
   ],
   "source": [
    "from sklearn.metrics import r2_score\n",
    "print(f\"The accuracy is {int(r2_score(y, yhat)*100)}%\")\n"
   ]
  },
  {
   "cell_type": "markdown",
   "id": "130da6d1",
   "metadata": {},
   "source": [
    "## GD vectorize Implementation"
   ]
  },
  {
   "cell_type": "code",
   "execution_count": 163,
   "id": "953bdfcb",
   "metadata": {},
   "outputs": [],
   "source": [
    "def batch_GD_vectorized(x,y,alpha):\n",
    "    #1. Initialize parameters (theta_0 & theta_1) with zero.\n",
    "    theta_0 = 0\n",
    "    theta_1 = 0\n",
    "    \n",
    "    thetas_0 = []\n",
    "    thetas_1 = []\n",
    "    js = []\n",
    "    \n",
    "    #7. Repeat from 2 to 6 until converge to the minimum or achieve maximum iterations.\n",
    "    for i in range(1000):\n",
    "        #2. Use (theta_0 & theta_1) to predict the output h(x)= theta_0 + theta_1 * x\n",
    "        hx = theta_0 + (theta_1 * x)\n",
    "\n",
    "        #3. Calculate Cost function 𝑱(theta_0,theta_1 )\n",
    "        j = (np.dot(hx - y, hx - y ))/(2*len(x))\n",
    "\n",
    "        thetas_0.append(theta_0)\n",
    "        thetas_1.append(theta_1)\n",
    "        js.append(j)\n",
    "\n",
    "        #4. Calculate the gradient\n",
    "        g_theta_0 = np.sum(hx-y)/len(x)\n",
    "        g_theta_1 = np.dot((hx-y) , x)/len(x)\n",
    "\n",
    "        #5. Update the parameters (simultaneously)\n",
    "        theta_0 = theta_0 - (alpha * g_theta_0)\n",
    "        theta_1 = theta_1 - (alpha * g_theta_1)\n",
    "\n",
    "        #7. Stop condition\n",
    "        thetas_vactor_prev = np.array([thetas_0[-1], thetas_1[-1]])\n",
    "        thetas_vector_curr = np.array([theta_0, theta_1])\n",
    "        if i>1 and (js[i-1] - js[i]) < 0.0001 and (np.linalg.norm(thetas_vactor_prev) - np.linalg.norm(thetas_vector_curr)) < 0.0001:\n",
    "            break;\n",
    "        \n",
    "    return i, thetas_0, thetas_1, js"
   ]
  },
  {
   "cell_type": "code",
   "execution_count": 164,
   "id": "b29c846e",
   "metadata": {},
   "outputs": [],
   "source": [
    "i, thetas_0, thetas_1, js = batch_GD_vectorized(X,y,0.001)"
   ]
  },
  {
   "cell_type": "code",
   "execution_count": 165,
   "id": "97a7f02a",
   "metadata": {},
   "outputs": [
    {
     "name": "stdout",
     "output_type": "stream",
     "text": [
      "the function has been iterating 121 times\n",
      "and the min cost is 0.20204981976281938\n"
     ]
    }
   ],
   "source": [
    "print(f'''the function has been iterating {i} times\\nand the min cost is {js[-1]}''')"
   ]
  },
  {
   "cell_type": "code",
   "execution_count": 166,
   "id": "538a336e",
   "metadata": {},
   "outputs": [],
   "source": [
    "yhat = thetas_0[-1] + thetas_1[-1] * X"
   ]
  },
  {
   "cell_type": "code",
   "execution_count": 168,
   "id": "be406217",
   "metadata": {},
   "outputs": [
    {
     "data": {
      "text/plain": [
       "Text(0.5, 1.0, 'best peridected fitting line for 121 iterations')"
      ]
     },
     "execution_count": 168,
     "metadata": {},
     "output_type": "execute_result"
    },
    {
     "data": {
      "image/png": "[encoded data removed]",
      "text/plain": [
       "<Figure size 432x288 with 1 Axes>"
      ]
     },
     "metadata": {
      "needs_background": "light"
     },
     "output_type": "display_data"
    }
   ],
   "source": [
    "plt.scatter(X,y)\n",
    "plt.plot(X, yhat,color = 'red')\n",
    "plt.xlabel(\"X\")\n",
    "plt.ylabel(\"y\")\n",
    "plt.title(f\"best peridected fitting line for {i} iterations\")"
   ]
  },
  {
   "cell_type": "code",
   "execution_count": 170,
   "id": "167bbbc5",
   "metadata": {},
   "outputs": [
    {
     "data": {
      "text/plain": [
       "Text(0.5, 1.0, 'Epochs vs Cost function')"
      ]
     },
     "execution_count": 170,
     "metadata": {},
     "output_type": "execute_result"
    },
    {
     "data": {
      "image/png": "[encoded data removed]",
      "text/plain": [
       "<Figure size 432x288 with 1 Axes>"
      ]
     },
     "metadata": {
      "needs_background": "light"
     },
     "output_type": "display_data"
    }
   ],
   "source": [
    "plt.plot(np.arange(i+1), js,'-o')\n",
    "plt.xlabel(\"Epochs\")\n",
    "plt.ylabel(\"J\")\n",
    "plt.title(\"Epochs vs Cost function\")"
   ]
  },
  {
   "cell_type": "code",
   "execution_count": 172,
   "id": "769b0185",
   "metadata": {},
   "outputs": [
    {
     "data": {
      "text/plain": [
       "Text(0.5, 1.0, 'theta 0 vs cost function')"
      ]
     },
     "execution_count": 172,
     "metadata": {},
     "output_type": "execute_result"
    },
    {
     "data": {
      "image/png": "[encoded data removed]",
      "text/plain": [
       "<Figure size 432x288 with 1 Axes>"
      ]
     },
     "metadata": {
      "needs_background": "light"
     },
     "output_type": "display_data"
    }
   ],
   "source": [
    "# theta 0\n",
    "plt.plot(thetas_0,js,'-o')\n",
    "plt.xlabel(\"theta 0\")\n",
    "plt.ylabel(\"J\")\n",
    "plt.title(\"theta 0 vs cost function\")"
   ]
  },
  {
   "cell_type": "code",
   "execution_count": 174,
   "id": "a09d9fc0",
   "metadata": {
    "scrolled": true
   },
   "outputs": [
    {
     "data": {
      "text/plain": [
       "Text(0.5, 1.0, 'theta 1 vs cost function')"
      ]
     },
     "execution_count": 174,
     "metadata": {},
     "output_type": "execute_result"
    },
    {
     "data": {
      "image/png": "[encoded data removed]",
      "text/plain": [
       "<Figure size 432x288 with 1 Axes>"
      ]
     },
     "metadata": {
      "needs_background": "light"
     },
     "output_type": "display_data"
    }
   ],
   "source": [
    "# theta 1\n",
    "plt.plot(thetas_1,js,'-o')\n",
    "plt.xlabel(\"theta 1\")\n",
    "plt.ylabel(\"J\")\n",
    "plt.title(\"theta 1 vs cost function\")"
   ]
  },
  {
   "cell_type": "code",
   "execution_count": 175,
   "id": "8194008f",
   "metadata": {},
   "outputs": [
    {
     "name": "stdout",
     "output_type": "stream",
     "text": [
      "The accuracy is 74%\n"
     ]
    }
   ],
   "source": [
    "from sklearn.metrics import r2_score\n",
    "print(f\"The accuracy is {int(r2_score(y, yhat)*100)}%\")\n"
   ]
  },
  {
   "cell_type": "markdown",
   "id": "02587d5e",
   "metadata": {},
   "source": [
    "### Apply GD on generated data"
   ]
  },
  {
   "cell_type": "code",
   "execution_count": 176,
   "id": "0ee5c4ea",
   "metadata": {},
   "outputs": [],
   "source": [
    "# using linspace(start, stop, num) to generate the values in X equally distributed between 0 and 20\n",
    "# num is 50 (default)\n",
    "X = np.linspace(0, 20)\n",
    "y = -2*X + 1 "
   ]
  },
  {
   "cell_type": "code",
   "execution_count": 177,
   "id": "b50af366",
   "metadata": {},
   "outputs": [
    {
     "data": {
      "text/plain": [
       "array([ 0.        ,  0.40816327,  0.81632653,  1.2244898 ,  1.63265306,\n",
       "        2.04081633,  2.44897959,  2.85714286,  3.26530612,  3.67346939,\n",
       "        4.08163265,  4.48979592,  4.89795918,  5.30612245,  5.71428571,\n",
       "        6.12244898,  6.53061224,  6.93877551,  7.34693878,  7.75510204,\n",
       "        8.16326531,  8.57142857,  8.97959184,  9.3877551 ,  9.79591837,\n",
       "       10.20408163, 10.6122449 , 11.02040816, 11.42857143, 11.83673469,\n",
       "       12.24489796, 12.65306122, 13.06122449, 13.46938776, 13.87755102,\n",
       "       14.28571429, 14.69387755, 15.10204082, 15.51020408, 15.91836735,\n",
       "       16.32653061, 16.73469388, 17.14285714, 17.55102041, 17.95918367,\n",
       "       18.36734694, 18.7755102 , 19.18367347, 19.59183673, 20.        ])"
      ]
     },
     "execution_count": 177,
     "metadata": {},
     "output_type": "execute_result"
    }
   ],
   "source": [
    "X"
   ]
  },
  {
   "cell_type": "code",
   "execution_count": 178,
   "id": "b857a01f",
   "metadata": {},
   "outputs": [
    {
     "data": {
      "text/plain": [
       "array([  1.        ,   0.18367347,  -0.63265306,  -1.44897959,\n",
       "        -2.26530612,  -3.08163265,  -3.89795918,  -4.71428571,\n",
       "        -5.53061224,  -6.34693878,  -7.16326531,  -7.97959184,\n",
       "        -8.79591837,  -9.6122449 , -10.42857143, -11.24489796,\n",
       "       -12.06122449, -12.87755102, -13.69387755, -14.51020408,\n",
       "       -15.32653061, -16.14285714, -16.95918367, -17.7755102 ,\n",
       "       -18.59183673, -19.40816327, -20.2244898 , -21.04081633,\n",
       "       -21.85714286, -22.67346939, -23.48979592, -24.30612245,\n",
       "       -25.12244898, -25.93877551, -26.75510204, -27.57142857,\n",
       "       -28.3877551 , -29.20408163, -30.02040816, -30.83673469,\n",
       "       -31.65306122, -32.46938776, -33.28571429, -34.10204082,\n",
       "       -34.91836735, -35.73469388, -36.55102041, -37.36734694,\n",
       "       -38.18367347, -39.        ])"
      ]
     },
     "execution_count": 178,
     "metadata": {},
     "output_type": "execute_result"
    }
   ],
   "source": [
    "y"
   ]
  },
  {
   "cell_type": "markdown",
   "id": "fe4d19c6",
   "metadata": {},
   "source": [
    "#### with batch_GD()"
   ]
  },
  {
   "cell_type": "code",
   "execution_count": 196,
   "id": "c8971b8b",
   "metadata": {},
   "outputs": [],
   "source": [
    "i, thetas_0, thetas_1, js = batch_GD(X,y,0.001)"
   ]
  },
  {
   "cell_type": "code",
   "execution_count": 197,
   "id": "c0830799",
   "metadata": {},
   "outputs": [
    {
     "name": "stdout",
     "output_type": "stream",
     "text": [
      "the function has been iterating 30 times\n",
      "and the min cost is 0.05140479386145589\n"
     ]
    }
   ],
   "source": [
    "print(f'''the function has been iterating {i} times\\nand the min cost is {js[-1]}''')"
   ]
  },
  {
   "cell_type": "code",
   "execution_count": 204,
   "id": "d6dfd726",
   "metadata": {},
   "outputs": [],
   "source": [
    "yhat = thetas_0[-1] + thetas_1[-1] * X"
   ]
  },
  {
   "cell_type": "code",
   "execution_count": 205,
   "id": "911fe5ed",
   "metadata": {},
   "outputs": [
    {
     "data": {
      "text/plain": [
       "Text(0.5, 1.0, 'best peridected fitting line for 30 iterations')"
      ]
     },
     "execution_count": 205,
     "metadata": {},
     "output_type": "execute_result"
    },
    {
     "data": {
      "image/png": "[encoded data removed]",
      "text/plain": [
       "<Figure size 432x288 with 1 Axes>"
      ]
     },
     "metadata": {
      "needs_background": "light"
     },
     "output_type": "display_data"
    }
   ],
   "source": [
    "plt.scatter(X,y)\n",
    "plt.plot(X, yhat,color='red')\n",
    "plt.xlabel(\"X\")\n",
    "plt.ylabel(\"y\")\n",
    "plt.title(f\"best peridected fitting line for {i} iterations\")"
   ]
  },
  {
   "cell_type": "code",
   "execution_count": 206,
   "id": "f1d1ef73",
   "metadata": {},
   "outputs": [
    {
     "data": {
      "text/plain": [
       "Text(0.5, 1.0, 'Epochs vs Cost function')"
      ]
     },
     "execution_count": 206,
     "metadata": {},
     "output_type": "execute_result"
    },
    {
     "data": {
      "image/png": "[encoded data removed]",
      "text/plain": [
       "<Figure size 432x288 with 1 Axes>"
      ]
     },
     "metadata": {
      "needs_background": "light"
     },
     "output_type": "display_data"
    }
   ],
   "source": [
    "plt.plot(np.arange(i+1), js,'-o')\n",
    "plt.xlabel(\"Epochs\")\n",
    "plt.ylabel(\"J\")\n",
    "plt.title(\"Epochs vs Cost function\")"
   ]
  },
  {
   "cell_type": "code",
   "execution_count": 207,
   "id": "4f473368",
   "metadata": {},
   "outputs": [
    {
     "data": {
      "text/plain": [
       "Text(0.5, 1.0, 'theta 0 vs cost function')"
      ]
     },
     "execution_count": 207,
     "metadata": {},
     "output_type": "execute_result"
    },
    {
     "data": {
      "image/png": "[encoded data removed]",
      "text/plain": [
       "<Figure size 432x288 with 1 Axes>"
      ]
     },
     "metadata": {
      "needs_background": "light"
     },
     "output_type": "display_data"
    }
   ],
   "source": [
    "# theta 0\n",
    "plt.plot(thetas_0,js,'-o')\n",
    "plt.xlabel(\"theta 0\")\n",
    "plt.ylabel(\"J\")\n",
    "plt.title(\"theta 0 vs cost function\")"
   ]
  },
  {
   "cell_type": "code",
   "execution_count": 210,
   "id": "083b8b02",
   "metadata": {},
   "outputs": [
    {
     "data": {
      "text/plain": [
       "Text(0.5, 1.0, 'theta 1 vs cost function')"
      ]
     },
     "execution_count": 210,
     "metadata": {},
     "output_type": "execute_result"
    },
    {
     "data": {
      "image/png": "[encoded data removed]",
      "text/plain": [
       "<Figure size 432x288 with 1 Axes>"
      ]
     },
     "metadata": {
      "needs_background": "light"
     },
     "output_type": "display_data"
    }
   ],
   "source": [
    "# theta 1\n",
    "plt.plot(thetas_1,js, '-o')\n",
    "plt.xlabel(\"theta 1\")\n",
    "plt.ylabel(\"J\")\n",
    "plt.title(\"theta 1 vs cost function\")"
   ]
  },
  {
   "cell_type": "code",
   "execution_count": 211,
   "id": "79332e87",
   "metadata": {},
   "outputs": [
    {
     "name": "stdout",
     "output_type": "stream",
     "text": [
      "The accuracy is 99%\n"
     ]
    }
   ],
   "source": [
    "from sklearn.metrics import r2_score\n",
    "print(f\"The accuracy is {int(r2_score(y, yhat)*100)}%\")\n"
   ]
  },
  {
   "cell_type": "markdown",
   "id": "11a67285",
   "metadata": {},
   "source": [
    "#### with batch_GD_vectorized()"
   ]
  },
  {
   "cell_type": "code",
   "execution_count": 214,
   "id": "a4ae833d",
   "metadata": {},
   "outputs": [],
   "source": [
    "i, thetas_0, thetas_1, js = batch_GD_vectorized(X,y,0.001)"
   ]
  },
  {
   "cell_type": "code",
   "execution_count": 215,
   "id": "48316bb8",
   "metadata": {},
   "outputs": [
    {
     "name": "stdout",
     "output_type": "stream",
     "text": [
      "the function has been iterating 54 times\n",
      "and the min cost is 0.16354374311931646\n"
     ]
    }
   ],
   "source": [
    "print(f'''the function has been iterating {i} times\\nand the min cost is {js[-1]}''')"
   ]
  },
  {
   "cell_type": "code",
   "execution_count": 216,
   "id": "6827fdd3",
   "metadata": {},
   "outputs": [],
   "source": [
    "yhat = thetas_0[-1] + thetas_1[-1] * X"
   ]
  },
  {
   "cell_type": "code",
   "execution_count": 218,
   "id": "888b910a",
   "metadata": {},
   "outputs": [
    {
     "data": {
      "text/plain": [
       "Text(0.5, 1.0, 'best peridected fitting line for 54 iterations')"
      ]
     },
     "execution_count": 218,
     "metadata": {},
     "output_type": "execute_result"
    },
    {
     "data": {
      "image/png": "[encoded data removed]",
      "text/plain": [
       "<Figure size 432x288 with 1 Axes>"
      ]
     },
     "metadata": {
      "needs_background": "light"
     },
     "output_type": "display_data"
    }
   ],
   "source": [
    "plt.scatter(X,y)\n",
    "plt.plot(X, yhat, color = 'red')\n",
    "plt.xlabel(\"X\")\n",
    "plt.ylabel(\"y\")\n",
    "plt.title(f\"best peridected fitting line for {i} iterations\")"
   ]
  },
  {
   "cell_type": "code",
   "execution_count": 220,
   "id": "559abfae",
   "metadata": {},
   "outputs": [
    {
     "data": {
      "text/plain": [
       "Text(0.5, 1.0, 'Epochs vs Cost function')"
      ]
     },
     "execution_count": 220,
     "metadata": {},
     "output_type": "execute_result"
    },
    {
     "data": {
      "image/png": "[encoded data removed]",
      "text/plain": [
       "<Figure size 432x288 with 1 Axes>"
      ]
     },
     "metadata": {
      "needs_background": "light"
     },
     "output_type": "display_data"
    }
   ],
   "source": [
    "plt.plot(np.arange(i+1), js, '-o')\n",
    "plt.xlabel(\"Epochs\")\n",
    "plt.ylabel(\"J\")\n",
    "plt.title(\"Epochs vs Cost function\")"
   ]
  },
  {
   "cell_type": "code",
   "execution_count": 221,
   "id": "c3491154",
   "metadata": {},
   "outputs": [
    {
     "data": {
      "text/plain": [
       "Text(0.5, 1.0, 'theta 0 vs cost function')"
      ]
     },
     "execution_count": 221,
     "metadata": {},
     "output_type": "execute_result"
    },
    {
     "data": {
      "image/png": "[encoded data removed]",
      "text/plain": [
       "<Figure size 432x288 with 1 Axes>"
      ]
     },
     "metadata": {
      "needs_background": "light"
     },
     "output_type": "display_data"
    }
   ],
   "source": [
    "# theta 0\n",
    "plt.plot(thetas_0,js, '-o')\n",
    "plt.xlabel(\"theta 0\")\n",
    "plt.ylabel(\"J\")\n",
    "plt.title(\"theta 0 vs cost function\")"
   ]
  },
  {
   "cell_type": "code",
   "execution_count": 222,
   "id": "e10c3859",
   "metadata": {},
   "outputs": [
    {
     "data": {
      "text/plain": [
       "Text(0.5, 1.0, 'theta 1 vs cost function')"
      ]
     },
     "execution_count": 222,
     "metadata": {},
     "output_type": "execute_result"
    },
    {
     "data": {
      "image/png": "[encoded data removed]",
      "text/plain": [
       "<Figure size 432x288 with 1 Axes>"
      ]
     },
     "metadata": {
      "needs_background": "light"
     },
     "output_type": "display_data"
    }
   ],
   "source": [
    "# theta 1\n",
    "plt.plot(thetas_1,js,'-o')\n",
    "plt.xlabel(\"theta 1\")\n",
    "plt.ylabel(\"J\")\n",
    "plt.title(\"theta 1 vs cost function\")"
   ]
  },
  {
   "cell_type": "code",
   "execution_count": 223,
   "id": "a19de548",
   "metadata": {},
   "outputs": [
    {
     "name": "stdout",
     "output_type": "stream",
     "text": [
      "The accuracy is 99%\n"
     ]
    }
   ],
   "source": [
    "from sklearn.metrics import r2_score\n",
    "print(f\"The accuracy is {int(r2_score(y, yhat)*100)}%\")\n"
   ]
  },
  {
   "cell_type": "code",
   "execution_count": null,
   "id": "a12e793a",
   "metadata": {},
   "outputs": [],
   "source": []
  }
 ],
 "metadata": {
  "kernelspec": {
   "display_name": "Python 3 (ipykernel)",
   "language": "python",
   "name": "python3"
  },
  "language_info": {
   "codemirror_mode": {
    "name": "ipython",
    "version": 3
   },
   "file_extension": ".py",
   "mimetype": "text/x-python",
   "name": "python",
   "nbconvert_exporter": "python",
   "pygments_lexer": "ipython3",
   "version": "3.9.7"
  }
 },
 "nbformat": 4,
 "nbformat_minor": 5
}
